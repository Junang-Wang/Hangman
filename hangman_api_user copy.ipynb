{
 "cells": [
  {
   "cell_type": "markdown",
   "metadata": {},
   "source": [
    "# Trexquant Interview Project (The Hangman Game)\n",
    "\n",
    "* Copyright Trexquant Investment LP. All Rights Reserved. \n",
    "* Redistribution of this question without written consent from Trexquant is prohibited"
   ]
  },
  {
   "cell_type": "markdown",
   "metadata": {},
   "source": [
    "## Instruction:\n",
    "For this coding test, your mission is to write an algorithm that plays the game of Hangman through our API server. \n",
    "\n",
    "When a user plays Hangman, the server first selects a secret word at random from a list. The server then returns a row of underscores (space separated)—one for each letter in the secret word—and asks the user to guess a letter. If the user guesses a letter that is in the word, the word is redisplayed with all instances of that letter shown in the correct positions, along with any letters correctly guessed on previous turns. If the letter does not appear in the word, the user is charged with an incorrect guess. The user keeps guessing letters until either (1) the user has correctly guessed all the letters in the word\n",
    "or (2) the user has made six incorrect guesses.\n",
    "\n",
    "You are required to write a \"guess\" function that takes current word (with underscores) as input and returns a guess letter. You will use the API codes below to play 1,000 Hangman games. You have the opportunity to practice before you want to start recording your game results.\n",
    "\n",
    "Your algorithm is permitted to use a training set of approximately 250,000 dictionary words. Your algorithm will be tested on an entirely disjoint set of 250,000 dictionary words. Please note that this means the words that you will ultimately be tested on do NOT appear in the dictionary that you are given. You are not permitted to use any dictionary other than the training dictionary we provided. This requirement will be strictly enforced by code review.\n",
    "\n",
    "You are provided with a basic, working algorithm. This algorithm will match the provided masked string (e.g. a _ _ l e) to all possible words in the dictionary, tabulate the frequency of letters appearing in these possible words, and then guess the letter with the highest frequency of appearence that has not already been guessed. If there are no remaining words that match then it will default back to the character frequency distribution of the entire dictionary.\n",
    "\n",
    "This benchmark strategy is successful approximately 18% of the time. Your task is to design an algorithm that significantly outperforms this benchmark."
   ]
  },
  {
   "cell_type": "code",
   "execution_count": 7,
   "metadata": {
    "jupyter": {
     "outputs_hidden": true
    },
    "scrolled": true
   },
   "outputs": [],
   "source": [
    "import json\n",
    "import requests\n",
    "import random\n",
    "import string\n",
    "import secrets\n",
    "import time\n",
    "import re\n",
    "import collections\n",
    "\n",
    "try:\n",
    "    from urllib.parse import parse_qs, urlencode, urlparse\n",
    "except ImportError:\n",
    "    from urlparse import parse_qs, urlparse\n",
    "    from urllib import urlencode\n",
    "\n",
    "from requests.packages.urllib3.exceptions import InsecureRequestWarning\n",
    "\n",
    "requests.packages.urllib3.disable_warnings(InsecureRequestWarning)"
   ]
  },
  {
   "cell_type": "code",
   "execution_count": 17,
   "metadata": {},
   "outputs": [
    {
     "name": "stdout",
     "output_type": "stream",
     "text": [
      "['aa', 'aa', 'aa', 'aa', 'aa', 'aa', 'aa', 'aa', 'aa', 'as', 'aa', 'ac', 'ch', 'he', 'en', 'aa', 'ae', 'ee', 'aa', 'ag', 'aa', 'ah', 'he', 'ed', 'aa', 'ah', 'hs', 'aa', 'al', 'aa', 'al', 'le', 'es', 'su', 'un', 'nd', 'aa', 'al', 'li', 'ii', 'is', 'aa', 'al', 'ls', 'st', 'aa', 'am', 'aa', 'an', 'nd', 'da', 'ah', 'hl', 'aa', 'ao', 'aa', 'ap', 'ps', 'ss', 'aa', 'ar', 'aa', 'ar', 'ra', 'au', 'aa', 'ar', 'rd', 'dv', 'va', 'ar', 'rk', 'aa', 'ar', 'rd', 'dw', 'wo', 'ol', 'lf', 'aa', 'ar', 're', 'en', 'aa', 'ar', 'rg', 'gh', 'aa', 'ar', 'ri', 'ik', 'ka', 'aa', 'ar', 'ro', 'on', 'ni', 'ic', 'aa', 'ar']\n",
      "False\n",
      "<re.Match object; span=(1, 3), match='0e'>\n",
      "False\n",
      "Counter({'te': 26219, 're': 24800, 'le': 22135, 'ne': 19584, 'de': 13954, 'se': 13813, 'he': 11707, 'me': 11077, 've': 10593, 'pe': 10209, 'ce': 9023, 'ie': 8301, 'ge': 7326, 'be': 5974, 'ee': 5426, 'ke': 5188, 'ze': 3531, 'ae': 3350, 'fe': 3328, 'we': 3228, 'ue': 2259, 'oe': 1715, 'ye': 1380, 'je': 735, 'xe': 638, 'qe': 5})\n"
     ]
    }
   ],
   "source": [
    "def check_neighbor(letter,clean_word,front):\n",
    "    \"\"\"This function checks if the neighbor of guessed letter is empty\n",
    "        Letter: The letter to check \n",
    "        front: True: check the front neighbor; False: check the behind neighbor\n",
    "        return: True or False\n",
    "    \"\"\"\n",
    "    my_word = clean_word.replace('.','0')\n",
    "    if front:\n",
    "        check_str = '0'+letter\n",
    "    else:\n",
    "        check_str = letter + '0'\n",
    "    return re.match(check_str,my_word)!=None\n",
    "\n",
    "def Count(letter,front):\n",
    "        \"\"\" Function return Counter dict\n",
    "            letter: the checking letter\n",
    "            front: True or False\"\"\" \n",
    "        if front:\n",
    "            check_str = '.'+letter\n",
    "        else:\n",
    "            check_str = letter + '.'\n",
    "        segments_filtered = [segment for segment in segments if re.match(check_str,segment)]\n",
    "        c = collections.Counter(segments_filtered)\n",
    "        return c\n",
    "text_file = open(\"words_250000_train.txt\",\"r\")\n",
    "full_dictionary = text_file.read().splitlines()\n",
    "text_file.close()\n",
    "#return combinations with two letters return a dict contains 2-letter segments\n",
    "\n",
    "segments = []\n",
    "for word in full_dictionary:\n",
    "    for i in range(0,len(word)):\n",
    "        segment = word[i:i+2]\n",
    "        if len(segment) ==2:\n",
    "            segments.append(segment)\n",
    "print(segments[:100])\n",
    "clean_word = 'e0e'\n",
    "letter = 'e'\n",
    "print(check_neighbor(letter,clean_word,front=True))\n",
    "print(re.search('0e',clean_word))\n",
    "print('0e' in segments)\n",
    "print(Count('e',front=True))"
   ]
  },
  {
   "cell_type": "code",
   "execution_count": 22,
   "metadata": {
    "jupyter": {
     "outputs_hidden": true
    }
   },
   "outputs": [],
   "source": [
    "class HangmanAPI(object):\n",
    "    def __init__(self, access_token=None, session=None, timeout=None):\n",
    "        self.hangman_url = self.determine_hangman_url()\n",
    "        self.access_token = access_token\n",
    "        self.session = session or requests.Session()\n",
    "        self.timeout = timeout\n",
    "        self.guessed_letters = []\n",
    "        \n",
    "        full_dictionary_location = \"words_250000_train.txt\"\n",
    "        self.full_dictionary = self.build_dictionary(full_dictionary_location)        \n",
    "        self.full_dictionary_common_letter_sorted = collections.Counter(\"\".join(self.full_dictionary)).most_common()\n",
    "        \n",
    "        self.current_dictionary = []\n",
    "\n",
    "        self.segments = self.letter_combination_dict()\n",
    "        \n",
    "    @staticmethod\n",
    "    def determine_hangman_url():\n",
    "        links = ['https://trexsim.com', 'https://sg.trexsim.com']\n",
    "\n",
    "        data = {link: 0 for link in links}\n",
    "\n",
    "        for link in links:\n",
    "\n",
    "            requests.get(link)\n",
    "\n",
    "            for i in range(10):\n",
    "                s = time.time()\n",
    "                requests.get(link)\n",
    "                data[link] = time.time() - s\n",
    "\n",
    "        link = sorted(data.items(), key=lambda x: x[1])[0][0]\n",
    "        link += '/trexsim/hangman'\n",
    "        return link\n",
    "\n",
    "    def guess(self, word): # word input example: \"_ p p _ e \"\n",
    "        ###############################################\n",
    "        # Replace with your own \"guess\" function here #\n",
    "        ###############################################\n",
    "\n",
    "        # clean the word so that we strip away the space characters\n",
    "        # replace \"_\" with \".\" as \".\" indicates any character in regular expressions\n",
    "        clean_word = word[::2].replace(\"_\",\".\")\n",
    "        \n",
    "        # find length of passed word\n",
    "        len_word = len(clean_word)\n",
    "        \n",
    "        # grab current dictionary of possible words from self object, initialize new possible words dictionary to empty\n",
    "        current_dictionary = self.current_dictionary\n",
    "        new_dictionary = []\n",
    "        \n",
    "        if not self.guessed_letters:\n",
    "            # iterate through all of the words in the old plausible dictionary\n",
    "            for dict_word in current_dictionary:\n",
    "                # continue if the word is not of the appropriate length\n",
    "                if len(dict_word) != len_word:\n",
    "                    continue\n",
    "                    \n",
    "                # if dictionary word is a possible match then add it to the current dictionary\n",
    "                if re.match(clean_word,dict_word):\n",
    "                    new_dictionary.append(dict_word)\n",
    "            \n",
    "            # overwrite old possible words dictionary with updated version\n",
    "            self.current_dictionary = new_dictionary\n",
    "            \n",
    "            \n",
    "            # count occurrence of all characters in possible word matches\n",
    "            full_dict_string = \"\".join(new_dictionary)\n",
    "            \n",
    "            c = collections.Counter(full_dict_string)\n",
    "            sorted_letter_count = c.most_common()                   \n",
    "            \n",
    "            guess_letter = '!'\n",
    "            \n",
    "            # return most frequently occurring letter in all possible words that hasn't been guessed yet\n",
    "            for letter,instance_count in sorted_letter_count:\n",
    "                if letter not in self.guessed_letters:\n",
    "                    guess_letter = letter\n",
    "                    break\n",
    "                \n",
    "            # if no word matches in training dictionary, default back to ordering of full dictionary\n",
    "            if guess_letter == '!':\n",
    "                sorted_letter_count = self.full_dictionary_common_letter_sorted\n",
    "                for letter,instance_count in sorted_letter_count:\n",
    "                    if letter not in self.guessed_letters:\n",
    "                        guess_letter = letter\n",
    "                        break            \n",
    "            \n",
    "            return guess_letter\n",
    "        else:\n",
    "            for letter in self.guessed_letters:\n",
    "                print('checking letter',letter)\n",
    "                # check neighbor\n",
    "                for front in [True,False]:\n",
    "                    if self.check_neighbor(letter,clean_word,front):\n",
    "                        print('checking front',front)\n",
    "                        print('checking neighbor')\n",
    "                        # count the segment combination\n",
    "                        c = self.Count(letter,front)\n",
    "                        sorted_letter_count = c.most_common()\n",
    "                        print('counting',sorted_letter_count)\n",
    "                        # return the guess letter from the most prevalent segment in all possible words that hasn't been guessed yet\n",
    "                        guess_letter = self.prevalent_letter(sorted_letter_count,front)\n",
    "                        print(letter,guess_letter,front)\n",
    "                        break\n",
    "            return guess_letter\n",
    "\n",
    "                    \n",
    "\n",
    "\n",
    "\n",
    "\n",
    "    \n",
    "\n",
    "    \n",
    "    def check_neighbor(self,letter,clean_word,front):\n",
    "        \"\"\"This function checks if the neighbor of guessed letter is empty\n",
    "           Letter: The letter to check \n",
    "           front: True: check the front neighbor; False: check the behind neighbor\n",
    "           return: True or False\n",
    "        \"\"\"\n",
    "        my_word = clean_word.replace('.','0')\n",
    "        if front:\n",
    "            check_str = '0'+letter\n",
    "        else:\n",
    "            check_str = letter + '0'\n",
    "        return re.match(check_str,my_word)!=None\n",
    "    def Count(self,letter,front):\n",
    "        \"\"\" Function return Counter dict\n",
    "            letter: the checking letter\n",
    "            front: True or False\"\"\" \n",
    "        if front:\n",
    "            check_str = '0'+letter\n",
    "        else:\n",
    "            check_str = letter + '0'\n",
    "        segments_filtered = [segment for segment in self.segments if check_str == segment]\n",
    "        c = collections.Counter(segments_filtered)\n",
    "        return c\n",
    "    \n",
    "    def prevalent_letter(self,sorted_segment_count,front):\n",
    "        \"\"\"return the letter from the most frequently occurring segment in all possible words that hasn't been guessed yet\"\"\"\n",
    "        for segment,_ in sorted_segment_count:\n",
    "            if front:\n",
    "                letter = segment[0]\n",
    "            else:\n",
    "                letter = segment[-1]\n",
    "            if letter not in self.guessed_letters:\n",
    "                return letter \n",
    "        return None \n",
    "    ##########################################################\n",
    "    # You'll likely not need to modify any of the code below #\n",
    "    ##########################################################\n",
    "    \n",
    "    def build_dictionary(self, dictionary_file_location):\n",
    "        text_file = open(dictionary_file_location,\"r\")\n",
    "        full_dictionary = text_file.read().splitlines()\n",
    "        text_file.close()\n",
    "        return full_dictionary\n",
    "                \n",
    "    def start_game(self, practice=True, verbose=True):\n",
    "        # reset guessed letters to empty set and current plausible dictionary to the full dictionary\n",
    "        self.guessed_letters = []\n",
    "        self.current_dictionary = self.full_dictionary\n",
    "                         \n",
    "        response = self.request(\"/new_game\", {\"practice\":practice})\n",
    "        if response.get('status')==\"approved\":\n",
    "            game_id = response.get('game_id')\n",
    "            word = response.get('word')\n",
    "            tries_remains = response.get('tries_remains')\n",
    "            if verbose:\n",
    "                print(\"Successfully start a new game! Game ID: {0}. # of tries remaining: {1}. Word: {2}.\".format(game_id, tries_remains, word))\n",
    "            while tries_remains>0:\n",
    "                # get guessed letter from user code\n",
    "                guess_letter = self.guess(word)\n",
    "                    \n",
    "                # append guessed letter to guessed letters field in hangman object\n",
    "                self.guessed_letters.append(guess_letter)\n",
    "                if verbose:\n",
    "                    print(\"Guessing letter: {0}\".format(guess_letter))\n",
    "                    \n",
    "                try:    \n",
    "                    res = self.request(\"/guess_letter\", {\"request\":\"guess_letter\", \"game_id\":game_id, \"letter\":guess_letter})\n",
    "                except HangmanAPIError:\n",
    "                    print('HangmanAPIError exception caught on request.')\n",
    "                    continue\n",
    "                except Exception as e:\n",
    "                    print('Other exception caught on request.')\n",
    "                    raise e\n",
    "               \n",
    "                if verbose:\n",
    "                    print(\"Sever response: {0}\".format(res))\n",
    "                status = res.get('status')\n",
    "                tries_remains = res.get('tries_remains')\n",
    "                if status==\"success\":\n",
    "                    if verbose:\n",
    "                        print(\"Successfully finished game: {0}\".format(game_id))\n",
    "                    return True\n",
    "                elif status==\"failed\":\n",
    "                    reason = res.get('reason', '# of tries exceeded!')\n",
    "                    if verbose:\n",
    "                        print(\"Failed game: {0}. Because of: {1}\".format(game_id, reason))\n",
    "                    return False\n",
    "                elif status==\"ongoing\":\n",
    "                    word = res.get('word')\n",
    "        else:\n",
    "            if verbose:\n",
    "                print(\"Failed to start a new game\")\n",
    "        return status==\"success\"\n",
    "        \n",
    "    def my_status(self):\n",
    "        return self.request(\"/my_status\", {})\n",
    "    \n",
    "    def request(\n",
    "            self, path, args=None, post_args=None, method=None):\n",
    "        if args is None:\n",
    "            args = dict()\n",
    "        if post_args is not None:\n",
    "            method = \"POST\"\n",
    "\n",
    "        # Add `access_token` to post_args or args if it has not already been\n",
    "        # included.\n",
    "        if self.access_token:\n",
    "            # If post_args exists, we assume that args either does not exists\n",
    "            # or it does not need `access_token`.\n",
    "            if post_args and \"access_token\" not in post_args:\n",
    "                post_args[\"access_token\"] = self.access_token\n",
    "            elif \"access_token\" not in args:\n",
    "                args[\"access_token\"] = self.access_token\n",
    "\n",
    "        time.sleep(0.2)\n",
    "\n",
    "        num_retry, time_sleep = 50, 2\n",
    "        for it in range(num_retry):\n",
    "            try:\n",
    "                response = self.session.request(\n",
    "                    method or \"GET\",\n",
    "                    self.hangman_url + path,\n",
    "                    timeout=self.timeout,\n",
    "                    params=args,\n",
    "                    data=post_args,\n",
    "                    verify=False\n",
    "                )\n",
    "                break\n",
    "            except requests.HTTPError as e:\n",
    "                response = json.loads(e.read())\n",
    "                raise HangmanAPIError(response)\n",
    "            except requests.exceptions.SSLError as e:\n",
    "                if it + 1 == num_retry:\n",
    "                    raise\n",
    "                time.sleep(time_sleep)\n",
    "\n",
    "        headers = response.headers\n",
    "        if 'json' in headers['content-type']:\n",
    "            result = response.json()\n",
    "        elif \"access_token\" in parse_qs(response.text):\n",
    "            query_str = parse_qs(response.text)\n",
    "            if \"access_token\" in query_str:\n",
    "                result = {\"access_token\": query_str[\"access_token\"][0]}\n",
    "                if \"expires\" in query_str:\n",
    "                    result[\"expires\"] = query_str[\"expires\"][0]\n",
    "            else:\n",
    "                raise HangmanAPIError(response.json())\n",
    "        else:\n",
    "            raise HangmanAPIError('Maintype was not text, or querystring')\n",
    "\n",
    "        if result and isinstance(result, dict) and result.get(\"error\"):\n",
    "            raise HangmanAPIError(result)\n",
    "        return result\n",
    "    \n",
    "class HangmanAPIError(Exception):\n",
    "    def __init__(self, result):\n",
    "        self.result = result\n",
    "        self.code = None\n",
    "        try:\n",
    "            self.type = result[\"error_code\"]\n",
    "        except (KeyError, TypeError):\n",
    "            self.type = \"\"\n",
    "\n",
    "        try:\n",
    "            self.message = result[\"error_description\"]\n",
    "        except (KeyError, TypeError):\n",
    "            try:\n",
    "                self.message = result[\"error\"][\"message\"]\n",
    "                self.code = result[\"error\"].get(\"code\")\n",
    "                if not self.type:\n",
    "                    self.type = result[\"error\"].get(\"type\", \"\")\n",
    "            except (KeyError, TypeError):\n",
    "                try:\n",
    "                    self.message = result[\"error_msg\"]\n",
    "                except (KeyError, TypeError):\n",
    "                    self.message = result\n",
    "\n",
    "        Exception.__init__(self, self.message)"
   ]
  },
  {
   "cell_type": "markdown",
   "metadata": {},
   "source": [
    "# API Usage Examples"
   ]
  },
  {
   "cell_type": "markdown",
   "metadata": {},
   "source": [
    "## To start a new game:\n",
    "1. Make sure you have implemented your own \"guess\" method.\n",
    "2. Use the access_token that we sent you to create your HangmanAPI object. \n",
    "3. Start a game by calling \"start_game\" method.\n",
    "4. If you wish to test your function without being recorded, set \"practice\" parameter to 1.\n",
    "5. Note: You have a rate limit of 20 new games per minute. DO NOT start more than 20 new games within one minute."
   ]
  },
  {
   "cell_type": "code",
   "execution_count": 23,
   "metadata": {
    "jupyter": {
     "outputs_hidden": true
    }
   },
   "outputs": [],
   "source": [
    "api = HangmanAPI(access_token=\"09ee027a7d93f260d1e857fd7e6789\", timeout=2000)\n"
   ]
  },
  {
   "cell_type": "markdown",
   "metadata": {},
   "source": [
    "## Playing practice games:\n",
    "You can use the command below to play up to 100,000 practice games."
   ]
  },
  {
   "cell_type": "code",
   "execution_count": 26,
   "metadata": {
    "jupyter": {
     "outputs_hidden": true
    },
    "scrolled": true
   },
   "outputs": [
    {
     "name": "stdout",
     "output_type": "stream",
     "text": [
      "Successfully start a new game! Game ID: 5c7cc1a4abd0. # of tries remaining: 6. Word: _ _ _ _ _ _ _ _ _ _ _ _ .\n",
      "Guessing letter: e\n",
      "Sever response: {'game_id': '5c7cc1a4abd0', 'status': 'ongoing', 'tries_remains': 6, 'word': '_ _ _ _ e _ _ _ _ _ _ _ '}\n",
      "checking letter e\n",
      "checking front True\n",
      "checking front False\n"
     ]
    },
    {
     "ename": "UnboundLocalError",
     "evalue": "local variable 'guess_letter' referenced before assignment",
     "output_type": "error",
     "traceback": [
      "\u001b[1;31m---------------------------------------------------------------------------\u001b[0m",
      "\u001b[1;31mUnboundLocalError\u001b[0m                         Traceback (most recent call last)",
      "Cell \u001b[1;32mIn[26], line 1\u001b[0m\n\u001b[1;32m----> 1\u001b[0m api\u001b[39m.\u001b[39;49mstart_game(practice\u001b[39m=\u001b[39;49m\u001b[39m1\u001b[39;49m,verbose\u001b[39m=\u001b[39;49m\u001b[39mTrue\u001b[39;49;00m)\n\u001b[0;32m      2\u001b[0m [total_practice_runs,total_recorded_runs,total_recorded_successes,total_practice_successes] \u001b[39m=\u001b[39m api\u001b[39m.\u001b[39mmy_status() \u001b[39m# Get my game stats: (# of tries, # of wins)\u001b[39;00m\n\u001b[0;32m      3\u001b[0m practice_success_rate \u001b[39m=\u001b[39m total_practice_successes \u001b[39m/\u001b[39m total_practice_runs\n",
      "Cell \u001b[1;32mIn[22], line 184\u001b[0m, in \u001b[0;36mHangmanAPI.start_game\u001b[1;34m(self, practice, verbose)\u001b[0m\n\u001b[0;32m    181\u001b[0m     \u001b[39mprint\u001b[39m(\u001b[39m\"\u001b[39m\u001b[39mSuccessfully start a new game! Game ID: \u001b[39m\u001b[39m{0}\u001b[39;00m\u001b[39m. # of tries remaining: \u001b[39m\u001b[39m{1}\u001b[39;00m\u001b[39m. Word: \u001b[39m\u001b[39m{2}\u001b[39;00m\u001b[39m.\u001b[39m\u001b[39m\"\u001b[39m\u001b[39m.\u001b[39mformat(game_id, tries_remains, word))\n\u001b[0;32m    182\u001b[0m \u001b[39mwhile\u001b[39;00m tries_remains\u001b[39m>\u001b[39m\u001b[39m0\u001b[39m:\n\u001b[0;32m    183\u001b[0m     \u001b[39m# get guessed letter from user code\u001b[39;00m\n\u001b[1;32m--> 184\u001b[0m     guess_letter \u001b[39m=\u001b[39m \u001b[39mself\u001b[39;49m\u001b[39m.\u001b[39;49mguess(word)\n\u001b[0;32m    186\u001b[0m     \u001b[39m# append guessed letter to guessed letters field in hangman object\u001b[39;00m\n\u001b[0;32m    187\u001b[0m     \u001b[39mself\u001b[39m\u001b[39m.\u001b[39mguessed_letters\u001b[39m.\u001b[39mappend(guess_letter)\n",
      "Cell \u001b[1;32mIn[22], line 106\u001b[0m, in \u001b[0;36mHangmanAPI.guess\u001b[1;34m(self, word)\u001b[0m\n\u001b[0;32m    104\u001b[0m             \u001b[39mprint\u001b[39m(letter,guess_letter,front)\n\u001b[0;32m    105\u001b[0m             \u001b[39mbreak\u001b[39;00m\n\u001b[1;32m--> 106\u001b[0m \u001b[39mreturn\u001b[39;00m guess_letter\n",
      "\u001b[1;31mUnboundLocalError\u001b[0m: local variable 'guess_letter' referenced before assignment"
     ]
    }
   ],
   "source": [
    "api.start_game(practice=1,verbose=True)\n",
    "[total_practice_runs,total_recorded_runs,total_recorded_successes,total_practice_successes] = api.my_status() # Get my game stats: (# of tries, # of wins)\n",
    "practice_success_rate = total_practice_successes / total_practice_runs\n",
    "print('run %d practice games out of an allotted 100,000. practice success rate so far = %.3f' % (total_practice_runs, practice_success_rate))\n"
   ]
  },
  {
   "cell_type": "markdown",
   "metadata": {},
   "source": [
    "## Playing recorded games:\n",
    "Please finalize your code prior to running the cell below. Once this code executes once successfully your submission will be finalized. Our system will not allow you to rerun any additional games.\n",
    "\n",
    "Please note that it is expected that after you successfully run this block of code that subsequent runs will result in the error message \"Your account has been deactivated\".\n",
    "\n",
    "Once you've run this section of the code your submission is complete. Please send us your source code via email."
   ]
  },
  {
   "cell_type": "code",
   "execution_count": null,
   "metadata": {
    "jupyter": {
     "outputs_hidden": true
    }
   },
   "outputs": [],
   "source": [
    "for i in range(1000):\n",
    "    print('Playing ', i, ' th game')\n",
    "    # Uncomment the following line to execute your final runs. Do not do this until you are satisfied with your submission\n",
    "    #api.start_game(practice=0,verbose=False)\n",
    "    \n",
    "    # DO NOT REMOVE as otherwise the server may lock you out for too high frequency of requests\n",
    "    time.sleep(0.5)"
   ]
  },
  {
   "cell_type": "code",
   "execution_count": null,
   "metadata": {
    "jupyter": {
     "outputs_hidden": true
    }
   },
   "outputs": [],
   "source": []
  },
  {
   "cell_type": "markdown",
   "metadata": {},
   "source": [
    "## To check your game statistics\n",
    "1. Simply use \"my_status\" method.\n",
    "2. Returns your total number of games, and number of wins."
   ]
  },
  {
   "cell_type": "code",
   "execution_count": 5,
   "metadata": {
    "jupyter": {
     "outputs_hidden": true
    }
   },
   "outputs": [
    {
     "ename": "HangmanAPIError",
     "evalue": "{'error': 'Failed to authenticate with token INSERT_YOUR_TOKEN_HERE'}",
     "output_type": "error",
     "traceback": [
      "\u001b[1;31m---------------------------------------------------------------------------\u001b[0m",
      "\u001b[1;31mHangmanAPIError\u001b[0m                           Traceback (most recent call last)",
      "Cell \u001b[1;32mIn[5], line 1\u001b[0m\n\u001b[1;32m----> 1\u001b[0m [total_practice_runs,total_recorded_runs,total_recorded_successes,total_practice_successes] \u001b[39m=\u001b[39m api\u001b[39m.\u001b[39;49mmy_status() \u001b[39m# Get my game stats: (# of tries, # of wins)\u001b[39;00m\n\u001b[0;32m      2\u001b[0m success_rate \u001b[39m=\u001b[39m total_recorded_successes\u001b[39m/\u001b[39mtotal_recorded_runs\n\u001b[0;32m      3\u001b[0m \u001b[39mprint\u001b[39m(\u001b[39m'\u001b[39m\u001b[39moverall success rate = \u001b[39m\u001b[39m%.3f\u001b[39;00m\u001b[39m'\u001b[39m \u001b[39m%\u001b[39m success_rate)\n",
      "Cell \u001b[1;32mIn[2], line 149\u001b[0m, in \u001b[0;36mHangmanAPI.my_status\u001b[1;34m(self)\u001b[0m\n\u001b[0;32m    148\u001b[0m \u001b[39mdef\u001b[39;00m \u001b[39mmy_status\u001b[39m(\u001b[39mself\u001b[39m):\n\u001b[1;32m--> 149\u001b[0m     \u001b[39mreturn\u001b[39;00m \u001b[39mself\u001b[39;49m\u001b[39m.\u001b[39;49mrequest(\u001b[39m\"\u001b[39;49m\u001b[39m/my_status\u001b[39;49m\u001b[39m\"\u001b[39;49m, {})\n",
      "Cell \u001b[1;32mIn[2], line 205\u001b[0m, in \u001b[0;36mHangmanAPI.request\u001b[1;34m(self, path, args, post_args, method)\u001b[0m\n\u001b[0;32m    202\u001b[0m     \u001b[39mraise\u001b[39;00m HangmanAPIError(\u001b[39m'\u001b[39m\u001b[39mMaintype was not text, or querystring\u001b[39m\u001b[39m'\u001b[39m)\n\u001b[0;32m    204\u001b[0m \u001b[39mif\u001b[39;00m result \u001b[39mand\u001b[39;00m \u001b[39misinstance\u001b[39m(result, \u001b[39mdict\u001b[39m) \u001b[39mand\u001b[39;00m result\u001b[39m.\u001b[39mget(\u001b[39m\"\u001b[39m\u001b[39merror\u001b[39m\u001b[39m\"\u001b[39m):\n\u001b[1;32m--> 205\u001b[0m     \u001b[39mraise\u001b[39;00m HangmanAPIError(result)\n\u001b[0;32m    206\u001b[0m \u001b[39mreturn\u001b[39;00m result\n",
      "\u001b[1;31mHangmanAPIError\u001b[0m: {'error': 'Failed to authenticate with token INSERT_YOUR_TOKEN_HERE'}"
     ]
    }
   ],
   "source": [
    "[total_practice_runs,total_recorded_runs,total_recorded_successes,total_practice_successes] = api.my_status() # Get my game stats: (# of tries, # of wins)\n",
    "success_rate = total_recorded_successes/total_recorded_runs\n",
    "print('overall success rate = %.3f' % success_rate)"
   ]
  },
  {
   "cell_type": "code",
   "execution_count": null,
   "metadata": {
    "jupyter": {
     "outputs_hidden": true
    }
   },
   "outputs": [],
   "source": []
  }
 ],
 "metadata": {
  "kernelspec": {
   "display_name": "Python 3",
   "language": "python",
   "name": "python3"
  },
  "language_info": {
   "codemirror_mode": {
    "name": "ipython",
    "version": 3
   },
   "file_extension": ".py",
   "mimetype": "text/x-python",
   "name": "python",
   "nbconvert_exporter": "python",
   "pygments_lexer": "ipython3",
   "version": "3.9.16"
  }
 },
 "nbformat": 4,
 "nbformat_minor": 4
}
